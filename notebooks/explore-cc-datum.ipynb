{
 "cells": [
  {
   "cell_type": "code",
   "execution_count": 6,
   "metadata": {},
   "outputs": [],
   "source": [
    "import json\n",
    "import numpy as np"
   ]
  },
  {
   "cell_type": "code",
   "execution_count": 10,
   "metadata": {},
   "outputs": [
    {
     "name": "stdout",
     "output_type": "stream",
     "text": [
      "x. type: <class 'list'>\n",
      "y. type: <class 'list'>\n",
      "pos. type: <class 'list'> | shape: (11, 3)\n",
      "z. type: <class 'list'>\n",
      "smiles. type: <class 'str'>\n",
      "name. type: <class 'str'>\n",
      "idx. type: <class 'list'>\n",
      "cell_0. type: <class 'list'>\n",
      "cell_1. type: <class 'list'>\n",
      "cell_2. type: <class 'list'>\n",
      "cell_3. type: <class 'list'>\n",
      "x_0. type: <class 'list'>\n",
      "x_1. type: <class 'list'>\n",
      "x_2. type: <class 'list'>\n",
      "x_3. type: <class 'list'>\n",
      "mem_0. type: <class 'list'>\n",
      "mem_1. type: <class 'list'>\n",
      "mem_2. type: <class 'list'>\n",
      "mem_3. type: <class 'list'>\n",
      "adj_2_2_1. type: <class 'list'> | shape: (2, 0)\n",
      "adj_1_1_2. type: <class 'list'> | shape: (2, 20)\n",
      "adj_1_2. type: <class 'list'> | shape: (2, 5)\n",
      "adj_2_2_3. type: <class 'list'> | shape: (2, 0)\n",
      "adj_1_0. type: <class 'list'> | shape: (2, 22)\n",
      "adj_2_3. type: <class 'list'> | shape: (2, 1)\n",
      "adj_0_0_1. type: <class 'list'> | shape: (2, 22)\n",
      "adj_2_1. type: <class 'list'> | shape: (2, 5)\n",
      "adj_1_1_3. type: <class 'list'> | shape: (2, 110)\n",
      "adj_1_1_0. type: <class 'list'> | shape: (2, 32)\n",
      "adj_3_3_2. type: <class 'list'> | shape: (2, 0)\n",
      "adj_0_1. type: <class 'list'> | shape: (2, 22)\n",
      "adj_0_0_3. type: <class 'list'> | shape: (2, 110)\n",
      "adj_3_2. type: <class 'list'> | shape: (2, 1)\n",
      "inv_2_2_1. type: <class 'list'>\n",
      "inv_1_1_2. type: <class 'list'>\n",
      "inv_1_2. type: <class 'list'>\n",
      "inv_2_2_3. type: <class 'list'>\n",
      "inv_1_0. type: <class 'list'>\n",
      "inv_2_3. type: <class 'list'>\n",
      "inv_0_0_1. type: <class 'list'>\n",
      "inv_2_1. type: <class 'list'>\n",
      "inv_1_1_3. type: <class 'list'>\n",
      "inv_1_1_0. type: <class 'list'>\n",
      "inv_3_3_2. type: <class 'list'>\n",
      "inv_0_1. type: <class 'list'>\n",
      "inv_0_0_3. type: <class 'list'>\n",
      "inv_3_2. type: <class 'list'>\n",
      "num_features_dict. type: <class 'dict'>\n"
     ]
    }
   ],
   "source": [
    "path = \"data/raw/molecule-cc-example.json\"\n",
    "with open(path, \"r\") as f:\n",
    "    data = json.load(f)\n",
    "\n",
    "# print keys and dtypes\n",
    "for key, value in data.items():\n",
    "    s = f\"{key}. type: {type(value)}\"\n",
    "    shapelike = [\"adj\", \"pos\"]\n",
    "    if any([key.startswith(s) for s in shapelike]):\n",
    "        shape = np.array(value).shape\n",
    "        s += f\" | shape: {shape}\"\n",
    "    print(s)"
   ]
  },
  {
   "cell_type": "code",
   "execution_count": 13,
   "metadata": {},
   "outputs": [
    {
     "data": {
      "text/plain": [
       "{'0': 15, '1': 19, '2': 22, '3': 0}"
      ]
     },
     "execution_count": 13,
     "metadata": {},
     "output_type": "execute_result"
    }
   ],
   "source": [
    "data[\"num_features_dict\"]"
   ]
  }
 ],
 "metadata": {
  "kernelspec": {
   "display_name": "spatial-data-processing",
   "language": "python",
   "name": "python3"
  },
  "language_info": {
   "codemirror_mode": {
    "name": "ipython",
    "version": 3
   },
   "file_extension": ".py",
   "mimetype": "text/x-python",
   "name": "python",
   "nbconvert_exporter": "python",
   "pygments_lexer": "ipython3",
   "version": "3.11.6"
  }
 },
 "nbformat": 4,
 "nbformat_minor": 2
}
