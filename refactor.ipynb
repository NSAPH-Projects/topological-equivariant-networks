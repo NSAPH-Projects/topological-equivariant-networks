{
 "cells": [
  {
   "cell_type": "code",
   "execution_count": 8,
   "metadata": {},
   "outputs": [],
   "source": [
    "import gudhi\n",
    "from torch_geometric.datasets import QM9\n",
    "from tqdm import tqdm\n",
    "from simplicial_data.simplicial_data import SimplicialTransform\n",
    "from simplicial_data.rips_lift import rips_lift"
   ]
  },
  {
   "cell_type": "code",
   "execution_count": 35,
   "metadata": {},
   "outputs": [],
   "source": [
    "data_root = f'./datasets/QM9'\n",
    "dataset = QM9(root=data_root)\n",
    "graph = dataset[0]\n",
    "dim, dis = 2, 1"
   ]
  },
  {
   "cell_type": "code",
   "execution_count": 36,
   "metadata": {},
   "outputs": [],
   "source": [
    "x_dict, adj, inv = rips_lift(graph, dim=dim, dis=dis, fc_nodes=False)"
   ]
  },
  {
   "cell_type": "code",
   "execution_count": 37,
   "metadata": {},
   "outputs": [],
   "source": [
    "# create simplicial complex\n",
    "x_0, pos = graph.x, graph.pos\n",
    "points = [pos[i].tolist() for i in range(pos.shape[0])]\n",
    "rips_complex = gudhi.RipsComplex(points=points, max_edge_length=dis)\n",
    "simplex_tree = rips_complex.create_simplex_tree(max_dimension=dim)"
   ]
  },
  {
   "cell_type": "code",
   "execution_count": 38,
   "metadata": {},
   "outputs": [],
   "source": [
    "simplexes = []\n",
    "for simplex, _ in simplex_tree.get_simplices():\n",
    "    simplexes.append(simplex)"
   ]
  },
  {
   "cell_type": "code",
   "execution_count": 39,
   "metadata": {},
   "outputs": [
    {
     "data": {
      "text/plain": [
       "[[0], [1], [2], [3], [4]]"
      ]
     },
     "execution_count": 39,
     "metadata": {},
     "output_type": "execute_result"
    }
   ],
   "source": [
    "simplexes"
   ]
  },
  {
   "cell_type": "code",
   "execution_count": null,
   "metadata": {},
   "outputs": [],
   "source": []
  }
 ],
 "metadata": {
  "kernelspec": {
   "display_name": "empsn",
   "language": "python",
   "name": "python3"
  },
  "language_info": {
   "codemirror_mode": {
    "name": "ipython",
    "version": 3
   },
   "file_extension": ".py",
   "mimetype": "text/x-python",
   "name": "python",
   "nbconvert_exporter": "python",
   "pygments_lexer": "ipython3",
   "version": "3.10.13"
  }
 },
 "nbformat": 4,
 "nbformat_minor": 2
}
