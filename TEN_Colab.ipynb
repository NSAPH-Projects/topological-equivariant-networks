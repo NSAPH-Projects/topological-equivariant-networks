{
  "cells": [
    {
      "cell_type": "code",
      "execution_count": null,
      "metadata": {
        "colab": {
          "base_uri": "https://localhost:8080/"
        },
        "id": "i4TYUZxJHR1q",
        "outputId": "78289b0f-2f4d-4313-80c7-89f4494aa682"
      },
      "outputs": [],
      "source": [
        "!pip install -q https://github.com/conda-incubator/condacolab/archive/cuda-version-12.tar.gz\n",
        "import condacolab\n",
        "condacolab.install()"
      ]
    },
    {
      "cell_type": "code",
      "execution_count": null,
      "metadata": {
        "colab": {
          "base_uri": "https://localhost:8080/"
        },
        "id": "lqryZylGnpCE",
        "outputId": "076f0419-fbcf-4a8f-cf94-a52c7e8dd316"
      },
      "outputs": [],
      "source": [
        "# Repo download (from colab-notebooks branch)\n",
        "\n",
        "%cd /content\n",
        "!git clone -b colab-notebooks https://github.com/NSAPH-Projects/topological-equivariant-networks.git\n",
        "%cd topological-equivariant-networks"
      ]
    },
    {
      "cell_type": "code",
      "execution_count": null,
      "metadata": {},
      "outputs": [],
      "source": [
        "# Enable libmamba solver for faster environment resolution\n",
        "!conda install -n base conda-libmamba-solver\n",
        "!conda config --set solver libmamba"
      ]
    },
    {
      "cell_type": "code",
      "execution_count": null,
      "metadata": {
        "colab": {
          "base_uri": "https://localhost:8080/"
        },
        "id": "EcUIJ6XyHGnT",
        "outputId": "85784895-3bf9-46a7-9185-0ca302270d93"
      },
      "outputs": [],
      "source": [
        "# Create conda environment (conda install uses libmamba solver)\n",
        "%cd topological-equivariant-networks\n",
        "!chmod +x ./env_builder.sh\n",
        "!source env_builder.sh"
      ]
    },
    {
      "cell_type": "code",
      "execution_count": null,
      "metadata": {
        "colab": {
          "base_uri": "https://localhost:8080/"
        },
        "id": "y-B7QJNaXWtL",
        "outputId": "d313c153-291e-4c08-a7ec-147415ab682c"
      },
      "outputs": [],
      "source": [
        "!source activate ten && source scripts/isolated_ranks.sh"
      ]
    },
    {
      "cell_type": "code",
      "execution_count": null,
      "metadata": {
        "id": "kMHOpsyRduZ_"
      },
      "outputs": [],
      "source": []
    }
  ],
  "metadata": {
    "accelerator": "GPU",
    "colab": {
      "gpuType": "T4",
      "provenance": []
    },
    "kernelspec": {
      "display_name": "Python 3",
      "name": "python3"
    },
    "language_info": {
      "name": "python"
    }
  },
  "nbformat": 4,
  "nbformat_minor": 0
}
