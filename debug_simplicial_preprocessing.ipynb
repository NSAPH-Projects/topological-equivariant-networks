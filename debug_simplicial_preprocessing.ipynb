{
 "cells": [
  {
   "cell_type": "code",
   "execution_count": 1,
   "metadata": {},
   "outputs": [],
   "source": [
    "from torch_geometric.datasets import QM9\n",
    "from tqdm import tqdm\n",
    "from simplicial_data.simplicial_data import SimplicialTransform"
   ]
  },
  {
   "cell_type": "code",
   "execution_count": 2,
   "metadata": {},
   "outputs": [],
   "source": [
    "data_root = f'./datasets/QM9'\n",
    "dataset = QM9(root=data_root)"
   ]
  },
  {
   "cell_type": "code",
   "execution_count": 3,
   "metadata": {},
   "outputs": [],
   "source": [
    "import json\n",
    "from argparse import Namespace\n",
    "# Load the args from the JSON file\n",
    "with open('args.json', 'r') as f:\n",
    "    args = json.load(f)\n",
    "args = Namespace(**args)\n",
    "args.device = \"cpu\""
   ]
  },
  {
   "cell_type": "code",
   "execution_count": 4,
   "metadata": {},
   "outputs": [
    {
     "name": "stderr",
     "output_type": "stream",
     "text": [
      "100%|██████████| 96/96 [00:00<00:00, 255.76it/s]\n"
     ]
    }
   ],
   "source": [
    "num_samples = args.batch_size\n",
    "sample_dataset = dataset[:num_samples]\n",
    "sim_args = {\"dis\": 0.5, \"dim\": 2}\n",
    "transform = SimplicialTransform(dim=sim_args[\"dim\"], dis=sim_args[\"dis\"])\n",
    "sample_dataset = [transform(sample) for sample in tqdm(sample_dataset)]"
   ]
  },
  {
   "cell_type": "code",
   "execution_count": 5,
   "metadata": {},
   "outputs": [
    {
     "name": "stderr",
     "output_type": "stream",
     "text": [
      "Preparing data: 100%|██████████| 96/96 [00:00<00:00, 10628.02it/s]\n"
     ]
    }
   ],
   "source": [
    "from qm9.utils import prepare_data\n",
    "sample_dataset = [\n",
    "    prepare_data(graph, args.target_name) for graph in tqdm(sample_dataset, desc=\"Preparing data\")\n",
    "]"
   ]
  },
  {
   "cell_type": "code",
   "execution_count": 6,
   "metadata": {},
   "outputs": [
    {
     "name": "stdout",
     "output_type": "stream",
     "text": [
      "min/max/sum number of cells with rank 0: 3, 17, 950\n",
      "min/max/sum number of cells with rank 1: 3, 136, 4683\n",
      "min/max/sum number of cells with rank 2: 0, 0, 0\n"
     ]
    }
   ],
   "source": [
    "def print_cell_stats(rank):\n",
    "    num_cells_per_sample = [sample[f\"x_{rank}\"].size()[0] for sample in sample_dataset]\n",
    "    max_num_cells = max(num_cells_per_sample)\n",
    "    min_num_cells = min(num_cells_per_sample)\n",
    "    sum_num_cells = sum(num_cells_per_sample)\n",
    "    print(f\"min/max/sum number of cells with rank {rank}: {min_num_cells}, {max_num_cells}, {sum_num_cells}\")\n",
    "\n",
    "print_cell_stats(0)\n",
    "print_cell_stats(1)\n",
    "print_cell_stats(2)"
   ]
  },
  {
   "cell_type": "code",
   "execution_count": 7,
   "metadata": {},
   "outputs": [],
   "source": [
    "from torch_geometric.loader import DataLoader\n",
    "\n",
    "# dataloaders\n",
    "follow = [f\"x_{i}\" for i in range(args.dim + 1)] + [\"x\"]\n",
    "sample_loader = DataLoader(\n",
    "    sample_dataset,\n",
    "    batch_size=args.batch_size,\n",
    "    num_workers=args.num_workers,\n",
    "    shuffle=True,\n",
    "    follow_batch=follow,\n",
    ")"
   ]
  },
  {
   "cell_type": "code",
   "execution_count": 8,
   "metadata": {},
   "outputs": [],
   "source": [
    "from utils import get_model\n",
    "model = get_model(args).to(args.device)"
   ]
  },
  {
   "cell_type": "code",
   "execution_count": 9,
   "metadata": {},
   "outputs": [],
   "source": [
    "for batch in sample_loader:\n",
    "    response = model(batch)"
   ]
  },
  {
   "cell_type": "code",
   "execution_count": 11,
   "metadata": {},
   "outputs": [
    {
     "data": {
      "text/plain": [
       "tensor([[1.4905, 1.2863, 1.5281]])"
      ]
     },
     "execution_count": 11,
     "metadata": {},
     "output_type": "execute_result"
    }
   ],
   "source": [
    "import torch\n",
    "from torch_geometric.nn import global_add_pool\n",
    "x = torch.rand(4,3)\n",
    "b = torch.tensor([0,0,0,0])\n",
    "global_add_pool(x, b)"
   ]
  },
  {
   "cell_type": "code",
   "execution_count": 13,
   "metadata": {},
   "outputs": [
    {
     "ename": "IndexError",
     "evalue": "too many indices for tensor of dimension 1",
     "output_type": "error",
     "traceback": [
      "\u001b[0;31m---------------------------------------------------------------------------\u001b[0m",
      "\u001b[0;31mIndexError\u001b[0m                                Traceback (most recent call last)",
      "Cell \u001b[0;32mIn[13], line 1\u001b[0m\n\u001b[0;32m----> 1\u001b[0m \u001b[43mresponse\u001b[49m\u001b[43m[\u001b[49m\u001b[38;5;124;43m'\u001b[39;49m\u001b[38;5;124;43m0_0\u001b[39;49m\u001b[38;5;124;43m'\u001b[39;49m\u001b[43m]\u001b[49m\u001b[38;5;241m.\u001b[39mshape\n",
      "\u001b[0;31mIndexError\u001b[0m: too many indices for tensor of dimension 1"
     ]
    }
   ],
   "source": [
    "response['0_0'].shape"
   ]
  },
  {
   "cell_type": "code",
   "execution_count": null,
   "metadata": {},
   "outputs": [
    {
     "data": {
      "text/plain": [
       "SimplicialComplexData(x=[3, 15], y=6.309999942779541, pos=[3, 3], z=[3], smiles='[H]O[H]', name='gdb_3', idx=[1], x_0=[3, 1], x_1=[3, 2], x_2=[0, 3], adj_0_0=[2, 6], adj_0_1=[2, 6], adj_1_1=[2, 0], adj_1_2=[2, 0], inv_0_0=[2, 6], inv_0_1=[2, 6], inv_1_1=[3, 0], inv_1_2=[3, 0])"
      ]
     },
     "execution_count": 12,
     "metadata": {},
     "output_type": "execute_result"
    }
   ],
   "source": [
    "sample_dataset[2]"
   ]
  },
  {
   "cell_type": "code",
   "execution_count": null,
   "metadata": {},
   "outputs": [],
   "source": [
    "i, j = \"0_1\".split(\"_\")"
   ]
  },
  {
   "cell_type": "code",
   "execution_count": null,
   "metadata": {},
   "outputs": [
    {
     "data": {
      "text/plain": [
       "1"
      ]
     },
     "execution_count": 14,
     "metadata": {},
     "output_type": "execute_result"
    }
   ],
   "source": [
    "int(j)"
   ]
  },
  {
   "cell_type": "code",
   "execution_count": null,
   "metadata": {},
   "outputs": [],
   "source": []
  }
 ],
 "metadata": {
  "kernelspec": {
   "display_name": "empsn",
   "language": "python",
   "name": "python3"
  },
  "language_info": {
   "codemirror_mode": {
    "name": "ipython",
    "version": 3
   },
   "file_extension": ".py",
   "mimetype": "text/x-python",
   "name": "python",
   "nbconvert_exporter": "python",
   "pygments_lexer": "ipython3",
   "version": "3.10.13"
  }
 },
 "nbformat": 4,
 "nbformat_minor": 2
}
